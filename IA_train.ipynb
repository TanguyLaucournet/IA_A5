{
  "nbformat": 4,
  "nbformat_minor": 0,
  "metadata": {
    "colab": {
      "name": "IA_train.ipynb",
      "provenance": [],
      "collapsed_sections": []
    },
    "kernelspec": {
      "name": "python3",
      "display_name": "Python 3"
    },
    "language_info": {
      "name": "python"
    }
  },
  "cells": [
    {
      "cell_type": "code",
      "execution_count": null,
      "metadata": {
        "id": "CYvE93H8Pwwt",
        "colab": {
          "base_uri": "https://localhost:8080/"
        },
        "outputId": "5b93c8d6-1c42-47ae-ed6e-9783ff5df28f"
      },
      "outputs": [
        {
          "output_type": "stream",
          "name": "stdout",
          "text": [
            "Requirement already satisfied: music21 in /usr/local/lib/python3.7/dist-packages (5.5.0)\n"
          ]
        }
      ],
      "source": [
        "!pip install music21"
      ]
    },
    {
      "cell_type": "code",
      "source": [
        "import music21"
      ],
      "metadata": {
        "id": "hXmxZD4Jarxf"
      },
      "execution_count": null,
      "outputs": []
    },
    {
      "cell_type": "code",
      "source": [
        "#from google.colab import drive\n",
        "# drive.mount('/content/drive')"
      ],
      "metadata": {
        "id": "BK1m_Dt1a3c-",
        "colab": {
          "base_uri": "https://localhost:8080/"
        },
        "outputId": "4886d910-3b56-453a-8de0-fb18b2601fb9"
      },
      "execution_count": null,
      "outputs": [
        {
          "output_type": "stream",
          "name": "stdout",
          "text": [
            "Drive already mounted at /content/drive; to attempt to forcibly remount, call drive.mount(\"/content/drive\", force_remount=True).\n"
          ]
        }
      ]
    },
    {
      "cell_type": "code",
      "source": [
        "import glob\n",
        "import pickle\n",
        "import numpy\n",
        "from music21 import converter, instrument, note, chord, stream\n",
        "from keras.models import Sequential\n",
        "from keras.layers import Dense\n",
        "from keras.layers import Dropout\n",
        "from keras.layers import LSTM\n",
        "from keras.layers import Activation\n",
        "from keras.utils import np_utils\n",
        "from keras.callbacks import ModelCheckpoint"
      ],
      "metadata": {
        "id": "yEmGlLax1mr-"
      },
      "execution_count": null,
      "outputs": []
    },
    {
      "cell_type": "markdown",
      "source": [
        "Fonction général qui appelle les autre fonction et entraine le model LSTM"
      ],
      "metadata": {
        "id": "ry4ZROkMD4m-"
      }
    },
    {
      "cell_type": "code",
      "source": [
        "def train_network():\n",
        "    \n",
        "    notes = get_notes()\n",
        "\n",
        "    n = len(set(notes))\n",
        "\n",
        "    network_input, network_output = prepare_sequences(notes, n)\n",
        "\n",
        "    model = create_model(network_input, n)\n",
        "\n",
        "    train(model, network_input, network_output)"
      ],
      "metadata": {
        "id": "2lAG2LpU1_85"
      },
      "execution_count": null,
      "outputs": []
    },
    {
      "cell_type": "code",
      "source": [
        "def get_notes():\n",
        "    \n",
        "   # Nous récupérons toutes les notes et les accords des fichiers midi dans le répertoire ./midi_songs.\n",
        "    notes_list = []\n",
        "\n",
        "    for f in glob.glob(\"/content/drive/MyDrive/midi_songs/*.mid\"):\n",
        "        midi = converter.parse(f)\n",
        "\n",
        "        print(\"Parsing %s\" % f)\n",
        "\n",
        "        notes = None\n",
        "\n",
        "        try: \n",
        "            temp = instrument.partitionByInstrument(midi)\n",
        "            notes = temp.parts[0].recurse() \n",
        "        except: \n",
        "            notes = midi.flat.notes\n",
        "\n",
        "        for element in notes:\n",
        "            if isinstance(element, note.Note):\n",
        "                notes_list.append(str(element.pitch))\n",
        "            elif isinstance(element, chord.Chord):\n",
        "                notes_list.append('.'.join(str(n) for n in element.normalOrder))\n",
        "\n",
        "    with open('/content/drive/MyDrive/data/notes_list', 'wb') as filepath:\n",
        "        pickle.dump(notes_list, filepath)\n",
        "\n",
        "    return notes_list"
      ],
      "metadata": {
        "id": "XCJaJnet2CmU"
      },
      "execution_count": null,
      "outputs": []
    },
    {
      "cell_type": "code",
      "source": [
        "def prepare_sequences(notes_list, n):\n",
        "    \n",
        "    # La taille de la sequence peut être modifiée, plus elle est grande plus le model pourra apprendre à produire une mélodie variée cependant cela augment considerablement le temps de training\n",
        "    sequence_length = 30\n",
        "\n",
        "   \n",
        "\n",
        "    # Nous récuperons les différentes hauteurs\n",
        "    pitch= sorted(set(notes_list))\n",
        "   \n",
        "\n",
        "    # Nous créons un dictionnaire pour mapper chaque hauteur à un entier\n",
        "    note_to_int = dict((note, integer) for integer, note in enumerate(pitch))\n",
        "\n",
        "    network_input = []\n",
        "    network_output = []\n",
        "\n",
        "    # Création de la séquence d'entrée et de la sortie correspondante\n",
        "    for i in range(0, len(notes_list) - sequence_length, 1):\n",
        "        sequence_in = notes_list[i:i + sequence_length]\n",
        "        sequence_out = notes_list[i + sequence_length]\n",
        "        network_input.append([note_to_int[char] for char in sequence_in])\n",
        "        network_output.append(note_to_int[sequence_out])\n",
        "\n",
        "    n_patterns = len(network_input)\n",
        "\n",
        "    # On utilise numpy pour mettre l'input dans un format compatible avec LSTM\n",
        "    network_input = numpy.reshape(network_input, (n_patterns, sequence_length, 1))\n",
        " \n",
        "    network_input = network_input / float(n)\n",
        "\n",
        "    network_output = np_utils.to_categorical(network_output)\n",
        "\n",
        "    return (network_input, network_output)"
      ],
      "metadata": {
        "id": "vgveiQz22Kft"
      },
      "execution_count": null,
      "outputs": []
    },
    {
      "cell_type": "code",
      "source": [
        "def create_model(network_input, n):\n",
        "    \n",
        "    # Création de la structure du réseau neuronal\n",
        "    \n",
        "    model = Sequential()\n",
        "    model.add(LSTM(\n",
        "        512,\n",
        "        input_shape=(network_input.shape[1], network_input.shape[2]),\n",
        "        return_sequences=True\n",
        "    ))\n",
        "    model.add(Dropout(0.3))\n",
        "    model.add(LSTM(512, return_sequences=True))\n",
        "    model.add(Dropout(0.3))\n",
        "    model.add(LSTM(512))\n",
        "    model.add(Dense(256))\n",
        "    model.add(Dropout(0.3))\n",
        "    model.add(Dense(n))\n",
        "    model.add(Activation('softmax'))\n",
        "    model.compile(loss='categorical_crossentropy', optimizer='rmsprop')\n",
        "\n",
        "    return model"
      ],
      "metadata": {
        "id": "NHiJ6b1BSBkH"
      },
      "execution_count": null,
      "outputs": []
    },
    {
      "cell_type": "code",
      "source": [
        "def train(model, network_input, network_output):\n",
        "    \n",
        "    # Entrainement du réseau neuronal\n",
        "    \n",
        "    filepath = \"/content/drive/MyDrive/data/weights-improvement-{epoch:02d}-{loss:.4f}-bigger.hdf5\"\n",
        "    checkpoint = ModelCheckpoint(\n",
        "        filepath,\n",
        "        monitor='loss',\n",
        "        verbose=0,\n",
        "        save_best_only=True,\n",
        "        mode='min'\n",
        "    )\n",
        "    callbacks_list = [checkpoint]\n",
        "\n",
        "    model.fit(network_input, network_output, epochs=10, batch_size=64, callbacks=callbacks_list)"
      ],
      "metadata": {
        "id": "LhJMpOW92QYK"
      },
      "execution_count": null,
      "outputs": []
    },
    {
      "cell_type": "code",
      "source": [
        "train_network()"
      ],
      "metadata": {
        "colab": {
          "base_uri": "https://localhost:8080/"
        },
        "id": "7GUCBXZ32UbQ",
        "outputId": "61386177-7243-4fd5-a094-459ae988f8ee"
      },
      "execution_count": null,
      "outputs": [
        {
          "output_type": "stream",
          "name": "stdout",
          "text": [
            "Parsing /content/drive/MyDrive/midi_songs/d-123trainwithme.mid\n",
            "Parsing /content/drive/MyDrive/midi_songs/d-100purelove.mid\n",
            "Parsing /content/drive/MyDrive/midi_songs/d-closetoyou.mid\n",
            "Parsing /content/drive/MyDrive/midi_songs/d-dadip.mid\n",
            "Parsing /content/drive/MyDrive/midi_songs/d-dancingwithanangel.mid\n",
            "Parsing /content/drive/MyDrive/midi_songs/d-awayfromhome.mid\n",
            "Parsing /content/drive/MyDrive/midi_songs/d-childrenofthenight.mid\n",
            "Parsing /content/drive/MyDrive/midi_songs/celebrat_d.mid\n",
            "Parsing /content/drive/MyDrive/midi_songs/d-anotherday.mid\n",
            "Parsing /content/drive/MyDrive/midi_songs/d-badboy.mid\n",
            "Parsing /content/drive/MyDrive/midi_songs/blkisblk_d.mid\n",
            "Parsing /content/drive/MyDrive/midi_songs/d-becauseimlovingyou.mid\n",
            "Parsing /content/drive/MyDrive/midi_songs/d-automaticlover.mid\n",
            "Parsing /content/drive/MyDrive/midi_songs/d-bemylover.mid\n",
            "Parsing /content/drive/MyDrive/midi_songs/d-comenrideit.mid\n",
            "Parsing /content/drive/MyDrive/midi_songs/d-cocojamboo.mid\n",
            "Parsing /content/drive/MyDrive/midi_songs/borntobe_d.mid\n",
            "Parsing /content/drive/MyDrive/midi_songs/d-captainjack.mid\n",
            "Parsing /content/drive/MyDrive/midi_songs/d-desire.mid\n",
            "Parsing /content/drive/MyDrive/midi_songs/d-callme.mid\n",
            "Parsing /content/drive/MyDrive/midi_songs/d-cometakemyhand.mid\n",
            "Parsing /content/drive/MyDrive/midi_songs/d-dafunk.mid\n",
            "Parsing /content/drive/MyDrive/midi_songs/d-children.mid\n",
            "Parsing /content/drive/MyDrive/midi_songs/d-anything.mid\n",
            "Parsing /content/drive/MyDrive/midi_songs/d-dontgoaway.mid\n",
            "Parsing /content/drive/MyDrive/midi_songs/d-babybaby.mid\n",
            "Parsing /content/drive/MyDrive/midi_songs/d-allthatshewants.mid\n",
            "Parsing /content/drive/MyDrive/midi_songs/blowthe_d.mid\n",
            "Parsing /content/drive/MyDrive/midi_songs/d-celebratethelove.mid\n",
            "Parsing /content/drive/MyDrive/midi_songs/borntobewild2.mid\n",
            "Parsing /content/drive/MyDrive/midi_songs/d-beautifullife.mid\n",
            "Parsing /content/drive/MyDrive/midi_songs/d-anothernight.mid\n",
            "Parsing /content/drive/MyDrive/midi_songs/d-dontcryformeargentina.mid\n",
            "Epoch 1/10\n",
            "1064/1064 [==============================] - 2541s 2s/step - loss: 4.6073\n",
            "Epoch 2/10\n",
            "1064/1064 [==============================] - 2523s 2s/step - loss: 4.4975\n",
            "Epoch 3/10\n",
            "1064/1064 [==============================] - 2470s 2s/step - loss: 4.3175\n",
            "Epoch 4/10\n",
            "1064/1064 [==============================] - 2478s 2s/step - loss: 4.2656\n",
            "Epoch 5/10\n",
            "1064/1064 [==============================] - 2457s 2s/step - loss: 4.2168\n",
            "Epoch 6/10\n",
            "1064/1064 [==============================] - 2442s 2s/step - loss: 3.9913\n",
            "Epoch 7/10\n",
            "1064/1064 [==============================] - 2440s 2s/step - loss: 3.5971\n",
            "Epoch 8/10\n",
            "1064/1064 [==============================] - 2350s 2s/step - loss: 3.0878\n",
            "Epoch 9/10\n",
            "1064/1064 [==============================] - 2212s 2s/step - loss: 2.5811\n",
            "Epoch 10/10\n",
            " 771/1064 [====================>.........] - ETA: 10:07 - loss: 2.1725"
          ]
        }
      ]
    }
  ]
}